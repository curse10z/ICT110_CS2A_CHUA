{
  "nbformat": 4,
  "nbformat_minor": 0,
  "metadata": {
    "colab": {
      "provenance": []
    },
    "kernelspec": {
      "name": "python3",
      "display_name": "Python 3"
    },
    "language_info": {
      "name": "python"
    }
  },
  "cells": [
    {
      "cell_type": "code",
      "execution_count": null,
      "metadata": {
        "id": "QabMTzgbLFDU"
      },
      "outputs": [],
      "source": []
    },
    {
      "cell_type": "markdown",
      "metadata": {
        "id": "P_nlsZkaZMyW"
      },
      "source": [
        "#### Exercise 1\n",
        "\n",
        "Create a dictionary with the following keys and values showing a partial list of Real GDP growth in Annual percent change from IMF (Source: http://www.imf.org/external/datamapper/NGDP_RPCH@WEO/OEMDC/ADVEC/WEOWORLD)\n",
        "\n",
        "    China 6.5\n",
        "    Japan 0.7\n",
        "    Philippines 6.7\n",
        "    United States 2.3\n",
        "    "
      ]
    },
    {
      "cell_type": "code",
      "source": [
        "GDPgrowth = {\n",
        "    'China': 6.5,\n",
        "    'Japan': 0.7,\n",
        "    'Philippines': 6.7,\n",
        "    'United States': 2.3\n",
        "}\n",
        "\n",
        "print(GDPgrowth)\n"
      ],
      "metadata": {
        "colab": {
          "base_uri": "https://localhost:8080/"
        },
        "id": "N7-8_Jnaaa-u",
        "outputId": "c521a832-5f0a-440a-e02b-4e823a35c580"
      },
      "execution_count": null,
      "outputs": [
        {
          "output_type": "stream",
          "name": "stdout",
          "text": [
            "{'China': 6.5, 'Japan': 0.7, 'Philippines': 6.7, 'United States': 2.3}\n"
          ]
        }
      ]
    },
    {
      "cell_type": "markdown",
      "metadata": {
        "id": "n9yymLgOZMyW"
      },
      "source": [
        "#### Exercise 2\n",
        "\n",
        "Display all the keys and values from the dictionary you created above\n"
      ]
    },
    {
      "cell_type": "code",
      "source": [
        "print(\"Keys:\")\n",
        "for country in GDPgrowth:\n",
        "    print(country)\n",
        "\n",
        "print(\"\\nValues:\")\n",
        "for country, GRate in GDPgrowth.items():\n",
        "    print(f\"{country}: {GRate}\")\n",
        "\n"
      ],
      "metadata": {
        "colab": {
          "base_uri": "https://localhost:8080/"
        },
        "id": "rHLdKPguauX9",
        "outputId": "8b2cd598-f330-446e-e41e-e78c04cc9b32"
      },
      "execution_count": null,
      "outputs": [
        {
          "output_type": "stream",
          "name": "stdout",
          "text": [
            "Keys:\n",
            "China\n",
            "Japan\n",
            "Philippines\n",
            "United States\n",
            "\n",
            "Values:\n",
            "China: 6.5\n",
            "Japan: 0.7\n",
            "Philippines: 6.7\n",
            "United States: 2.3\n"
          ]
        }
      ]
    },
    {
      "cell_type": "markdown",
      "metadata": {
        "id": "0r1O4ixZZMyW"
      },
      "source": [
        "#### Exercise 3\n",
        "\n",
        "Write a program that asks the user to enter a line of text and then counts the number of each word that appeared in the line of text.\n",
        "Use the string function `split()` to make a list of words from a given string\n",
        "e.g.:\n",
        "\n",
        "```python\n",
        "word_list = line.split()\n",
        "```\n",
        "\n",
        "will return a list of words from the string `line` and store it in the variable `word_list`.\n",
        "\n",
        "\n",
        "(Adapted from [PES])"
      ]
    },
    {
      "cell_type": "code",
      "source": [
        "\n",
        "line = input(\"Enter a line of text: \")\n",
        "\n",
        "word_list = line.split()\n",
        "\n",
        "word_counts = {}\n",
        "\n",
        "for word in word_list:\n",
        "\n",
        "    if word in word_counts:\n",
        "        word_counts[word] += 1\n",
        "    else:\n",
        "        word_counts[word] = 1\n",
        "\n",
        "print(\"Word counts:\")\n",
        "for word, count in word_counts.items():\n",
        "    print(f\"{word}: {count}\")\n",
        "\n"
      ],
      "metadata": {
        "colab": {
          "base_uri": "https://localhost:8080/"
        },
        "id": "KsVidgGCa9Gk",
        "outputId": "0b9cfe22-67c4-4308-ebc8-a61dee450858"
      },
      "execution_count": null,
      "outputs": [
        {
          "output_type": "stream",
          "name": "stdout",
          "text": [
            "Enter a line of text: chua chua chua\n",
            "Word counts:\n",
            "chua: 3\n"
          ]
        }
      ]
    }
  ]
}
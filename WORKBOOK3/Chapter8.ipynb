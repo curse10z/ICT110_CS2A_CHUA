{
  "nbformat": 4,
  "nbformat_minor": 0,
  "metadata": {
    "colab": {
      "provenance": []
    },
    "kernelspec": {
      "name": "python3",
      "display_name": "Python 3"
    },
    "language_info": {
      "name": "python"
    }
  },
  "cells": [
    {
      "cell_type": "code",
      "execution_count": null,
      "metadata": {
        "id": "bbRGVxQ1KOp0"
      },
      "outputs": [],
      "source": []
    },
    {
      "cell_type": "markdown",
      "metadata": {
        "id": "OziBejx3ZMyP"
      },
      "source": [
        "## Parsing lines <a id='ParsingLines'></a>"
      ]
    },
    {
      "cell_type": "markdown",
      "metadata": {
        "id": "AbUP98XYZMyP"
      },
      "source": [
        "Usually when we are reading a file we want to do something to the lines other than just printing the whole line. Often we want to find the \"interesting lines\" and then parse the line to find some interesting part of the line. [PEW]"
      ]
    },
    {
      "cell_type": "markdown",
      "metadata": {
        "id": "fwy48x9wZMyP"
      },
      "source": [
        "What if we wanted to print out the email address of the lines that start with \"From \"?\n",
        "\n",
        "    From stephen.marquard@uct.ac.za Sat Jan  5 09:14:16 2008"
      ]
    },
    {
      "cell_type": "code",
      "execution_count": null,
      "metadata": {
        "id": "ElOhl2TFZMyP"
      },
      "outputs": [],
      "source": [
        "!pwd"
      ]
    },
    {
      "cell_type": "code",
      "execution_count": null,
      "metadata": {
        "colab": {
          "base_uri": "https://localhost:8080/"
        },
        "id": "2aBZiCBlZMyP",
        "outputId": "7c7f9762-4a28-4c71-a168-4e265b87799f"
      },
      "outputs": [
        {
          "output_type": "stream",
          "name": "stdout",
          "text": [
            "['stephen.marquard@uct.ac.za']\n"
          ]
        }
      ],
      "source": [
        "fhand = open('/content/drive/My Drive/BATAKKK/mbox-short.txt')\n",
        "my_list = []\n",
        "for line in fhand:\n",
        "    line = line.rstrip()\n",
        "    if not line.startswith('From'):\n",
        "        continue\n",
        "    words = line.split()\n",
        "    if my_list == []:\n",
        "        my_list.append(words[1])\n",
        "    elif words[1] not in my_list:\n",
        "         my_list.append(words[1])\n",
        "print(my_list)"
      ]
    },
    {
      "cell_type": "code",
      "source": [
        "from google.colab import drive\n",
        "drive.mount('/content/drive/')"
      ],
      "metadata": {
        "colab": {
          "base_uri": "https://localhost:8080/"
        },
        "id": "-A6Hutw_-S77",
        "outputId": "3fa4f53f-9584-4ae0-a881-2c04d5556114"
      },
      "execution_count": null,
      "outputs": [
        {
          "output_type": "stream",
          "name": "stdout",
          "text": [
            "Drive already mounted at /content/drive/; to attempt to forcibly remount, call drive.mount(\"/content/drive/\", force_remount=True).\n"
          ]
        }
      ]
    },
    {
      "cell_type": "markdown",
      "metadata": {
        "id": "b3p_FCx8ZMyP"
      },
      "source": [
        "## EXERCISES"
      ]
    },
    {
      "cell_type": "markdown",
      "metadata": {
        "id": "z2cf5YOTZMyP"
      },
      "source": [
        "#### Exercise 1\n",
        "\n",
        "Create an empty list then add the following numbers using `append`: 4, 6 9."
      ]
    },
    {
      "cell_type": "code",
      "source": [
        "\n",
        "my_list = []\n",
        "my_list.append(4)\n",
        "my_list.append(6)\n",
        "my_list.append(9)\n",
        "\n",
        "\n",
        "print(my_list)\n"
      ],
      "metadata": {
        "colab": {
          "base_uri": "https://localhost:8080/"
        },
        "id": "uvPmvYlaoj4w",
        "outputId": "0c62452a-e85e-4ced-d81f-0b8aa21348b3"
      },
      "execution_count": null,
      "outputs": [
        {
          "output_type": "stream",
          "name": "stdout",
          "text": [
            "[4, 6, 9]\n"
          ]
        }
      ]
    },
    {
      "cell_type": "markdown",
      "metadata": {
        "id": "9ko_hySuZMyP"
      },
      "source": [
        "#### Exercise 2\n",
        "\n",
        "Using the `range` function, create a list containing the numbers from 0 to 10."
      ]
    },
    {
      "cell_type": "code",
      "source": [
        "my_list = list(range(11))\n",
        "print(my_list)\n"
      ],
      "metadata": {
        "colab": {
          "base_uri": "https://localhost:8080/"
        },
        "id": "A5hIpmkjo_3w",
        "outputId": "7dd565cf-8ca2-4f73-e2e9-9a4eb706d324"
      },
      "execution_count": null,
      "outputs": [
        {
          "output_type": "stream",
          "name": "stdout",
          "text": [
            "[0, 1, 2, 3, 4, 5, 6, 7, 8, 9, 10]\n"
          ]
        }
      ]
    },
    {
      "cell_type": "markdown",
      "metadata": {
        "id": "ikJymeK2ZMyP"
      },
      "source": [
        "#### Exercise 3\n",
        "\n",
        "Create a list containing the valid grade values, then using `enumerate` in a `for` loop, print out all **indices** and **items** in the list.\n",
        "\n",
        "It should print out:\n",
        "\n",
        "    0   1.0\n",
        "    1   1.25\n",
        "    2   1.5\n",
        "    3   1.75\n",
        "    4   2.0\n",
        "    5   2.25\n",
        "    6   2.5\n",
        "    7   3.0\n",
        "      "
      ]
    },
    {
      "cell_type": "code",
      "source": [
        "grades = [1.0, 1.25, 1.5, 1.75, 2.0, 2.25, 2.5, 3.0]\n",
        "for index, grade in enumerate(grades):\n",
        "    print(index, \"  \", grade)\n",
        "\n"
      ],
      "metadata": {
        "colab": {
          "base_uri": "https://localhost:8080/"
        },
        "id": "34u-E3-Qdhvv",
        "outputId": "56461e12-294a-493f-afca-dfe458051277"
      },
      "execution_count": null,
      "outputs": [
        {
          "output_type": "stream",
          "name": "stdout",
          "text": [
            "0    1.0\n",
            "1    1.25\n",
            "2    1.5\n",
            "3    1.75\n",
            "4    2.0\n",
            "5    2.25\n",
            "6    2.5\n",
            "7    3.0\n"
          ]
        }
      ]
    },
    {
      "cell_type": "markdown",
      "metadata": {
        "id": "81kg4WnyZMyP"
      },
      "source": [
        "#### Exercise 4\n",
        "\n",
        "Using Index Slicing, print out the list of grades higher than 2.0"
      ]
    },
    {
      "cell_type": "code",
      "source": [
        "grades[5:8]\n"
      ],
      "metadata": {
        "colab": {
          "base_uri": "https://localhost:8080/"
        },
        "id": "bF0AAHwpdn3G",
        "outputId": "efede43c-c0f0-4428-f208-de6f03c4b257"
      },
      "execution_count": null,
      "outputs": [
        {
          "output_type": "execute_result",
          "data": {
            "text/plain": [
              "[2.25, 2.5, 3.0]"
            ]
          },
          "metadata": {},
          "execution_count": 51
        }
      ]
    },
    {
      "cell_type": "markdown",
      "metadata": {
        "id": "4aF5tEt2ZMyP"
      },
      "source": [
        "#### Exercise 5\n",
        "\n",
        "Using Index Slicing, print out the list of grades better than 2.0.\n"
      ]
    },
    {
      "cell_type": "code",
      "source": [
        "grades[0:4]"
      ],
      "metadata": {
        "colab": {
          "base_uri": "https://localhost:8080/"
        },
        "id": "KBvDqWeZd2BF",
        "outputId": "563b7a23-801f-4dba-9715-45c66f5f0916"
      },
      "execution_count": null,
      "outputs": [
        {
          "output_type": "execute_result",
          "data": {
            "text/plain": [
              "[1.0, 1.25, 1.5, 1.75]"
            ]
          },
          "metadata": {},
          "execution_count": 52
        }
      ]
    },
    {
      "cell_type": "markdown",
      "metadata": {
        "id": "3lwW77I8ZMyP"
      },
      "source": [
        "#### Exercise 6\n",
        "\n",
        "Using Index Slicing, print out the grades 2.0,2.25,2.5."
      ]
    },
    {
      "cell_type": "code",
      "source": [
        "grades[4:7]"
      ],
      "metadata": {
        "colab": {
          "base_uri": "https://localhost:8080/"
        },
        "id": "wTzAw2tPeDeO",
        "outputId": "497f3915-0bcb-4f53-ee7d-ef1c0b602dbf"
      },
      "execution_count": null,
      "outputs": [
        {
          "output_type": "execute_result",
          "data": {
            "text/plain": [
              "[2.0, 2.25, 2.5]"
            ]
          },
          "metadata": {},
          "execution_count": 53
        }
      ]
    },
    {
      "cell_type": "markdown",
      "metadata": {
        "id": "uo8A07_mZMyP"
      },
      "source": [
        "## CHALLENGE\n",
        "\n",
        "Modify the code in the subheading [Parsing Lines](#ParsingLines) to display all the time stamps\n",
        "of the emails in mboxt-short.txt\n"
      ]
    },
    {
      "cell_type": "code",
      "source": [
        "fhand = open('/content/drive/My Drive/BATAKKK/mbox-short.txt')\n",
        "emails = []\n",
        "timestamps = []\n",
        "\n",
        "for line in fhand:\n",
        "    line = line.strip()\n",
        "    if line.startswith('From '):\n",
        "        words = line.split()\n",
        "        emails.append(words[1])\n",
        "        timestamp = words[5] + ' ' + words[2] + ' ' + words[4] + ' ' + words[6]\n",
        "        timestamps.append(timestamp)\n",
        "\n",
        "for email, timestamp in zip(emails, timestamps):\n",
        "    print(\"Email:\", [email])\n",
        "    print(\"Timestamp:\", [timestamp])\n"
      ],
      "metadata": {
        "colab": {
          "base_uri": "https://localhost:8080/"
        },
        "id": "a2kSFzs-qL4n",
        "outputId": "f583a5ee-201e-46c6-d061-b8f1c7d32fb4"
      },
      "execution_count": null,
      "outputs": [
        {
          "output_type": "stream",
          "name": "stdout",
          "text": [
            "Email: ['stephen.marquard@uct.ac.za']\n",
            "Timestamp: ['09:14:16 Sat 5 2008']\n"
          ]
        }
      ]
    }
  ]
}
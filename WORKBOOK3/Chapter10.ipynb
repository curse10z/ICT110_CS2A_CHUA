{
  "nbformat": 4,
  "nbformat_minor": 0,
  "metadata": {
    "colab": {
      "provenance": []
    },
    "kernelspec": {
      "name": "python3",
      "display_name": "Python 3"
    },
    "language_info": {
      "name": "python"
    }
  },
  "cells": [
    {
      "cell_type": "code",
      "execution_count": null,
      "metadata": {
        "id": "so-ykKTmLWTR"
      },
      "outputs": [],
      "source": []
    },
    {
      "cell_type": "markdown",
      "metadata": {
        "id": "u6RHUp8cZMyb"
      },
      "source": [
        "#### Exercise 1\n",
        "\n",
        "Create a tuple with the following items: `1, 1, 2, 3, 5`. Feed the tuple to the `sum()` built-in function and check the result.\n"
      ]
    },
    {
      "cell_type": "code",
      "source": [
        "my_tuple = (1, 1, 2, 3, 5)\n",
        "\n",
        "result = sum(my_tuple)\n",
        "\n",
        "print(\"Sum:\", result)"
      ],
      "metadata": {
        "colab": {
          "base_uri": "https://localhost:8080/"
        },
        "id": "kiUcElpsjWh-",
        "outputId": "c0fc2553-7405-4180-935c-edbdd9ae809f"
      },
      "execution_count": 1,
      "outputs": [
        {
          "output_type": "stream",
          "name": "stdout",
          "text": [
            "Sum: 12\n"
          ]
        }
      ]
    },
    {
      "cell_type": "markdown",
      "metadata": {
        "id": "CtxD2y4UZMyb"
      },
      "source": [
        "#### Exercise 2\n",
        "\n",
        "Unpack the following tuple into meaningful variables and display them\n",
        "\n",
        "```python\n",
        "ph_info = ('Philippines', 'Manila', 103.3) # The last number is the Population in Millions as of 2016\n",
        "```\n"
      ]
    },
    {
      "cell_type": "code",
      "source": [
        "ph_info = ('Philippines', 'Manila', 103.3)\n",
        "\n",
        "country, capital, population = ph_info\n",
        "\n",
        "print(\"Country:\", country)\n",
        "print(\"Capital:\", capital)\n",
        "print(\"Population in millions as of 2016:\", population)\n",
        "\n",
        "\n"
      ],
      "metadata": {
        "colab": {
          "base_uri": "https://localhost:8080/"
        },
        "id": "bVxBlnwjjkeF",
        "outputId": "3e98e806-565a-4107-83d1-e711368cb3aa"
      },
      "execution_count": null,
      "outputs": [
        {
          "output_type": "stream",
          "name": "stdout",
          "text": [
            "Country: Philippines\n",
            "Capital: Manila\n",
            "Population in millions as of 2016: 103.3\n"
          ]
        }
      ]
    }
  ]
}
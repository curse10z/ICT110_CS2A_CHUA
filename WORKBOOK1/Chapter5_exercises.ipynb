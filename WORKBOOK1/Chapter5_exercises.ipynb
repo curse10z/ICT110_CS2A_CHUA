{
  "nbformat": 4,
  "nbformat_minor": 0,
  "metadata": {
    "colab": {
      "provenance": []
    },
    "kernelspec": {
      "name": "python3",
      "display_name": "Python 3"
    },
    "language_info": {
      "name": "python"
    }
  },
  "cells": [
    {
      "cell_type": "code",
      "execution_count": null,
      "metadata": {
        "id": "09tSo0eiqtR-"
      },
      "outputs": [],
      "source": []
    },
    {
      "cell_type": "markdown",
      "metadata": {
        "id": "lMymMvrve3rQ"
      },
      "source": [
        "## EXERCISES"
      ]
    },
    {
      "cell_type": "markdown",
      "metadata": {
        "id": "WrWqQhdue3rQ"
      },
      "source": [
        "#### Exercise 1"
      ]
    },
    {
      "cell_type": "markdown",
      "metadata": {
        "id": "JkkxmMpoe3rQ"
      },
      "source": [
        "Investigate on the difference between `is` and `==` given the following variables.\n",
        "```python\n",
        "a = 2\n",
        "b = 2.0\n",
        "c = a\n",
        "```"
      ]
    },
    {
      "cell_type": "code",
      "source": [
        "a = 2\n",
        "b = 2.0\n",
        "c = a\n",
        "\n",
        "\n",
        "print(a is b)\n",
        "print(a is c)\n",
        "print(b is c)\n",
        "\n",
        "\n",
        "print(a == b)\n",
        "print(a == c)\n",
        "print(b == c)\n",
        "\n",
        "## \"is\" is used to checks if they refer to the exact same object.\n",
        "## \"==\" is used to checks if the values of these obejcts are the same.\n"
      ],
      "metadata": {
        "colab": {
          "base_uri": "https://localhost:8080/"
        },
        "id": "gP93a28oaMoF",
        "outputId": "6dc21aca-35ea-4dff-e9b7-ea03287d79c6"
      },
      "execution_count": 3,
      "outputs": [
        {
          "output_type": "stream",
          "name": "stdout",
          "text": [
            "False\n",
            "True\n",
            "False\n",
            "True\n",
            "True\n",
            "True\n"
          ]
        }
      ]
    },
    {
      "cell_type": "markdown",
      "metadata": {
        "id": "HnR5qgaHe3rQ"
      },
      "source": [
        "## CHALLENGES"
      ]
    },
    {
      "cell_type": "markdown",
      "metadata": {
        "id": "Ae2HErw9e3rQ"
      },
      "source": [
        "#### Challenge 1"
      ]
    },
    {
      "cell_type": "markdown",
      "metadata": {
        "id": "0pmOvKife3rQ"
      },
      "source": [
        "Write a program which repeatedly reads numbers until the user enters \"done\". Once \"done\" is entered, print out the total, count, and average of the numbers. If the user enters anything other than a number, detect their mistake using try and except and print an error message and skip to the next number.\n",
        "\n",
        "    Enter a number: 4\n",
        "    Enter a number: 5\n",
        "    Enter a number: bad data\n",
        "    Invalid input\n",
        "    Enter a number: 7\n",
        "    Enter a number: done\n",
        "    16 3 5.333333333333333\n",
        "    \n",
        "[PEW] E5.1"
      ]
    },
    {
      "cell_type": "code",
      "source": [
        "total = 0\n",
        "count = 0\n",
        "\n",
        "while True:\n",
        "    num_input = input(\"Enter a number: \")\n",
        "    if num_input.lower() == \"done\":\n",
        "        break\n",
        "    if not num_input.isdigit():\n",
        "        print(\"Invalid input\")\n",
        "        continue\n",
        "    num = float(num_input)\n",
        "    total += num\n",
        "    count += 1\n",
        "\n",
        "if count > 0:\n",
        "    average = total / count\n",
        "    print(total, count, average)\n",
        "\n"
      ],
      "metadata": {
        "id": "RuUxYgP2kXK7",
        "colab": {
          "base_uri": "https://localhost:8080/"
        },
        "outputId": "95227bc2-8c63-414e-928e-a47fa54898e1"
      },
      "execution_count": 5,
      "outputs": [
        {
          "output_type": "stream",
          "name": "stdout",
          "text": [
            "Enter a number: 4\n",
            "Enter a number: 5\n",
            "Enter a number: bad idea\n",
            "Invalid input\n",
            "Enter a number: 7\n",
            "Enter a number: done\n",
            "16.0 3 5.333333333333333\n"
          ]
        }
      ]
    },
    {
      "cell_type": "markdown",
      "metadata": {
        "id": "ts7aZrXte3rQ"
      },
      "source": [
        "#### Challenge 2  "
      ]
    },
    {
      "cell_type": "markdown",
      "metadata": {
        "id": "GiUa3gnoe3rQ"
      },
      "source": [
        "Write another program that prompts for a list of numbers as above and at the end prints out both the maximum and minimum of the numbers instead of the average.\n",
        "\n",
        "[PEW] E5.2"
      ]
    },
    {
      "cell_type": "code",
      "source": [
        "numbers = []\n",
        "\n",
        "while True:\n",
        "    try:\n",
        "        user = input(\"Enter a number: \")\n",
        "        if user == 'done':\n",
        "            break\n",
        "        num = int(user)\n",
        "        numbers.append(num)\n",
        "    except ValueError:\n",
        "        print(\"Invalid input\")\n",
        "        continue\n",
        "\n",
        "if numbers:\n",
        "    maximum = max(numbers)\n",
        "    minimum = min(numbers)\n",
        "    print(\"Maximum:\", maximum)\n",
        "    print(\"Minimum:\", minimum)\n"
      ],
      "metadata": {
        "colab": {
          "base_uri": "https://localhost:8080/"
        },
        "id": "ViXqJpVplN8X",
        "outputId": "97f61b29-9afe-457e-9f66-53937cffabc8"
      },
      "execution_count": 7,
      "outputs": [
        {
          "output_type": "stream",
          "name": "stdout",
          "text": [
            "Enter a number: 4\n",
            "Enter a number: 5\n",
            "Enter a number: bad idea\n",
            "Invalid input\n",
            "Enter a number: 7\n",
            "Enter a number: done\n",
            "Maximum: 7\n",
            "Minimum: 4\n"
          ]
        }
      ]
    }
  ]
}
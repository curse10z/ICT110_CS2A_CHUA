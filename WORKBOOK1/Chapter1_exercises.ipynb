{
  "cells": [
    {
      "cell_type": "markdown",
      "metadata": {
        "id": "hTS84Ykeljm-"
      },
      "source": [
        "#### Exercise 1\n",
        "\n",
        "Each line of code below contains an error. Fix the error and explain in a comment the reason for the error.\n"
      ]
    },
    {
      "cell_type": "code",
      "execution_count": 1,
      "metadata": {
        "colab": {
          "base_uri": "https://localhost:8080/"
        },
        "id": "tcdamdRklnqG",
        "outputId": "9125b53f-cd77-42cf-d564-39f7d83429f5"
      },
      "outputs": [
        {
          "name": "stdout",
          "output_type": "stream",
          "text": [
            "Hello world!\n"
          ]
        }
      ],
      "source": [
        "print('Hello world!')\n",
        "#the \"p\" in \"print\" was capital.\n"
      ]
    },
    {
      "cell_type": "code",
      "execution_count": null,
      "metadata": {
        "id": "DerZV5_rly_3"
      },
      "outputs": [],
      "source": [
        "print ('Hello world!')\n",
        "#lacks of parenthesis"
      ]
    },
    {
      "cell_type": "code",
      "execution_count": null,
      "metadata": {
        "id": "JQIZRT5rlzUH"
      },
      "outputs": [],
      "source": [
        "print('Hello world!')\n",
        "#missing quote"
      ]
    },
    {
      "cell_type": "code",
      "execution_count": null,
      "metadata": {
        "id": "EInmnRIGlzom"
      },
      "outputs": [],
      "source": [
        "print('Hello world!')\n",
        "#there's an extra quote"
      ]
    },
    {
      "cell_type": "markdown",
      "metadata": {
        "id": "W_vrOioul9-9"
      },
      "source": [
        "#### Exercise 2\n",
        "What is the output of the code below? [PEW]"
      ]
    },
    {
      "cell_type": "code",
      "execution_count": null,
      "metadata": {
        "id": "TSdhQgcmmCuv"
      },
      "outputs": [],
      "source": [
        "x = 43\n",
        "x = x + 1\n",
        "print(x)\n",
        "\n",
        "#44"
      ]
    },
    {
      "cell_type": "markdown",
      "metadata": {
        "id": "of4nFjRDmLof"
      },
      "source": [
        "#### Exercise 3\n",
        "The code below contains an error. Fix the error and explain in a comment the reason for the error."
      ]
    },
    {
      "cell_type": "code",
      "execution_count": 1,
      "metadata": {
        "id": "51S3aBxTmHW-"
      },
      "outputs": [
        {
          "name": "stdout",
          "output_type": "stream",
          "text": [
            "44\n"
          ]
        }
      ],
      "source": [
        "x = 43\n",
        "x = x + 1\n",
        "print(x)\n",
        "\n",
        "#capitalized 'X', the variable was supposed to be small letter 'x'"
      ]
    }
  ],
  "metadata": {
    "colab": {
      "provenance": []
    },
    "kernelspec": {
      "display_name": "Python 3",
      "name": "python3"
    },
    "language_info": {
      "codemirror_mode": {
        "name": "ipython",
        "version": 3
      },
      "file_extension": ".py",
      "mimetype": "text/x-python",
      "name": "python",
      "nbconvert_exporter": "python",
      "pygments_lexer": "ipython3",
      "version": "3.8.10"
    }
  },
  "nbformat": 4,
  "nbformat_minor": 0
}

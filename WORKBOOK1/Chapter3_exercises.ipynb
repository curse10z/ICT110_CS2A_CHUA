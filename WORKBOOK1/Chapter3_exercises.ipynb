{
  "nbformat": 4,
  "nbformat_minor": 0,
  "metadata": {
    "colab": {
      "provenance": []
    },
    "kernelspec": {
      "name": "python3",
      "display_name": "Python 3"
    },
    "language_info": {
      "name": "python"
    }
  },
  "cells": [
    {
      "cell_type": "markdown",
      "metadata": {
        "id": "kOrFW6bTe3rI"
      },
      "source": [
        "## EXERCISES"
      ]
    },
    {
      "cell_type": "markdown",
      "metadata": {
        "id": "bGjKPFnGe3rI"
      },
      "source": [
        "#### Exercise 1"
      ]
    },
    {
      "cell_type": "markdown",
      "source": [
        "In the code below, which will never print regardless of the value for x? Edit the code to correct the error.\n",
        "\n",
        "```python\n",
        "if x > 0 :\n",
        "    print('Above 0')\n",
        "elif x >  10 :\n",
        "    print('Above 10')\n",
        "elif x > 50 :\n",
        "    print('Above 50')\n",
        "elif x >  20 :\n",
        "    print('Above 20')\n",
        "else :\n",
        "    print('Something else')\n",
        "```"
      ],
      "metadata": {
        "id": "pDbHTZ1Qe3rI"
      }
    },
    {
      "cell_type": "code",
      "source": [
        "x = int(input(\"Enter a value of x: \"))\n",
        "\n",
        "if x > 0 and x <= 10:\n",
        "    print('Above 0')\n",
        "elif x > 10 and x <=20 :\n",
        "    print('Above 10')\n",
        "elif x > 50 and x <= 60 :\n",
        "    print('Above 50')\n",
        "elif x >  20 and x <= 30:\n",
        "    print('Above 20')\n",
        "else :\n",
        "    print('Something else')\n"
      ],
      "metadata": {
        "colab": {
          "base_uri": "https://localhost:8080/"
        },
        "id": "1m1WAXB_svDy",
        "outputId": "17b94696-1546-4fe6-eed0-aa0703a4f960"
      },
      "execution_count": 8,
      "outputs": [
        {
          "output_type": "stream",
          "name": "stdout",
          "text": [
            "Enter a value of x: 21\n",
            "Above 20\n"
          ]
        }
      ]
    },
    {
      "cell_type": "code",
      "source": [
        "#### Exercise 2"
      ],
      "metadata": {
        "id": "e2xkW1_Ze3rI"
      },
      "execution_count": null,
      "outputs": []
    },
    {
      "cell_type": "markdown",
      "metadata": {
        "id": "HLALLCqZe3rI"
      },
      "source": [
        "Write your salary computation to give an employee 1.5 times the hourly rate for hours worked above 40 hours. Example:\n",
        "\n",
        "    Enter Hours: 45\n",
        "    Enter Rate: 10\n",
        "    Pay: 475.0\n",
        "    \n",
        "[PEW] E3.2"
      ]
    },
    {
      "cell_type": "code",
      "source": [
        "hours = 45\n",
        "rate = 10\n",
        "\n",
        "if hours <= 40:\n",
        "    gross = hours * rate\n",
        "else:\n",
        "    gross = 40 * rate + (hours - 40) * rate * 1.5\n",
        "\n",
        "print(\"Pay:\", gross)\n"
      ],
      "metadata": {
        "id": "39UGKeZWoaLw",
        "colab": {
          "base_uri": "https://localhost:8080/"
        },
        "outputId": "b69c7ae5-b71e-4f10-c442-569cf6d9b392"
      },
      "execution_count": 24,
      "outputs": [
        {
          "output_type": "stream",
          "name": "stdout",
          "text": [
            "Pay: 475.0\n"
          ]
        }
      ]
    },
    {
      "cell_type": "markdown",
      "metadata": {
        "id": "SN_HES89e3rI"
      },
      "source": [
        "## CHALLENGE"
      ]
    },
    {
      "cell_type": "markdown",
      "metadata": {
        "id": "ECIVGzywe3rI"
      },
      "source": [
        "Write a program to prompt for a score between 0 and 100 and print a grade using the following table:\n",
        "\n",
        "    Score           Grade\n",
        "    [ 97, 100]      1.0\n",
        "    [ 93,  97)\t\t1.25\n",
        "    [ 89,  93)\t\t1.5\n",
        "    [ 85,  89)\t\t1.75\n",
        "    [ 81,  85)\t\t2.0\n",
        "    [ 77,  81)\t\t2.25\n",
        "    [ 74,  77)\t\t2.5\n",
        "    [ 0,   74)\t\t3.0\n",
        "\n",
        "Adapted from [PEW] E3.3\n",
        "<br>"
      ]
    },
    {
      "cell_type": "code",
      "source": [
        "grade = int(input('Enter the grade: '))\n",
        "\n",
        "if grade < 74:\n",
        "    print(\"Grade = 3.0\")\n",
        "elif grade >= 74 and grade < 77:\n",
        "    print(\"Grade = 2.5\")\n",
        "elif grade >= 77 and grade < 81:\n",
        "    print(\"Grade = 2.25\")\n",
        "elif grade >= 81 and grade < 85:\n",
        "    print(\"Grade = 2.0\")\n",
        "elif grade >= 85 and grade < 89:\n",
        "    print(\"Grade = 1.75\")\n",
        "elif grade >= 89 and grade < 92:\n",
        "    print(\"Grade = 1.5\")\n",
        "elif grade >= 93 and grade < 97:\n",
        "    print(\"Grade = 1.25\")\n",
        "elif grade >= 97 and grade < 100:\n",
        "    print(\"Grade = 1.0\")\n",
        "\n",
        "print(\"Grade:\", grade)"
      ],
      "metadata": {
        "colab": {
          "base_uri": "https://localhost:8080/"
        },
        "id": "NA8JB49PvOQX",
        "outputId": "6cb2e090-66de-4701-daec-fab99f5a41b9"
      },
      "execution_count": 20,
      "outputs": [
        {
          "output_type": "stream",
          "name": "stdout",
          "text": [
            "Enter the grade: 93\n",
            "Grade = 1.25\n",
            "Grade: 93\n"
          ]
        }
      ]
    }
  ]
}
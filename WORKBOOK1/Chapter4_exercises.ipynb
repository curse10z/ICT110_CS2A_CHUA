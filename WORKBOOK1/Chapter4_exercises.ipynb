{
  "nbformat": 4,
  "nbformat_minor": 0,
  "metadata": {
    "colab": {
      "provenance": []
    },
    "kernelspec": {
      "name": "python3",
      "display_name": "Python 3"
    },
    "language_info": {
      "name": "python"
    }
  },
  "cells": [
    {
      "cell_type": "code",
      "execution_count": null,
      "metadata": {
        "id": "nyGEgB4hF9VV"
      },
      "outputs": [],
      "source": []
    },
    {
      "cell_type": "markdown",
      "metadata": {
        "id": "GMjpQdgxe3rM"
      },
      "source": [
        "## EXERCISES"
      ]
    },
    {
      "cell_type": "markdown",
      "metadata": {
        "id": "vqvAc3E8e3rM"
      },
      "source": [
        "#### Exercise 1"
      ]
    },
    {
      "cell_type": "markdown",
      "metadata": {
        "id": "FnC5OJKse3rM"
      },
      "source": [
        "Rewrite your pay computation with time-and-a-half for overtime and create a function called compute pay which takes two parameters (hours and rate).\n",
        "\n",
        "    Enter Hours: 45\n",
        "    Enter Rate: 10\n",
        "    Pay: 475.0\n",
        "    \n",
        "[PEW] E4.6"
      ]
    },
    {
      "cell_type": "code",
      "source": [
        "def compute_pay(hours):\n",
        "    rate = 10\n",
        "    if hours <= 40:\n",
        "        pay = hours * rate\n",
        "    else:\n",
        "        regular_pay = 40 * rate\n",
        "        overtime_hours = hours - 40\n",
        "        overtime_pay = overtime_hours * (rate * 1.5)\n",
        "        pay = regular_pay + overtime_pay\n",
        "    return pay\n",
        "\n",
        "hours = int(input(\"Enter Hours: \"))\n",
        "\n",
        "pay = compute_pay(hours)\n",
        "print(\"Pay:\", pay)"
      ],
      "metadata": {
        "colab": {
          "base_uri": "https://localhost:8080/"
        },
        "id": "RZ5s_zSwCszH",
        "outputId": "278ff4fb-a3a7-4af4-d351-06d501197516"
      },
      "execution_count": null,
      "outputs": [
        {
          "output_type": "stream",
          "name": "stdout",
          "text": [
            "Enter Hours: 45\n",
            "Pay: 475.0\n"
          ]
        }
      ]
    },
    {
      "cell_type": "markdown",
      "metadata": {
        "id": "7mW1h8PMe3rM"
      },
      "source": [
        "## CHALLENGE"
      ]
    },
    {
      "cell_type": "markdown",
      "metadata": {
        "id": "Af7as9H2e3rM"
      },
      "source": [
        "#### Challenge"
      ]
    },
    {
      "cell_type": "markdown",
      "metadata": {
        "id": "9PzHw4oBe3rM"
      },
      "source": [
        "Write a function called computegrade that takes a score as its parameter and returns a grade as a string using the following table:\n",
        "\n",
        "    Score           Grade\n",
        "    [ 97, 100]      1.0\n",
        "    [ 93,  97)\t\t1.25\n",
        "    [ 89,  93)\t\t1.5\n",
        "    [ 85,  89)\t\t1.75\n",
        "    [ 81,  85)\t\t2.0\n",
        "    [ 77,  81)\t\t2.25\n",
        "    [ 74,  77)\t\t2.5\n",
        "    [ 0,   74)\t\t3.0\n",
        "\n",
        "    Run the program repeatedly to test the various different values for input.\n",
        "    \n",
        "Adapted from [PEW] E4.6\n",
        "<br>"
      ]
    },
    {
      "cell_type": "code",
      "source": [
        "def computegrade(score):\n",
        "    if score >= 97:\n",
        "        return \"1.0\"\n",
        "    elif 93 <= score < 97:\n",
        "        return \"1.25\"\n",
        "    elif 89 <= score < 93:\n",
        "        return \"1.5\"\n",
        "    elif 85 <= score < 89:\n",
        "        return \"1.75\"\n",
        "    elif 81 <= score < 85:\n",
        "        return \"2.0\"\n",
        "    elif 77 <= score < 81:\n",
        "        return \"2.25\"\n",
        "    elif 74 <= score < 77:\n",
        "        return \"2.5\"\n",
        "    elif score < 74:\n",
        "        return \"3.0\"\n",
        "\n",
        "score = int(input(\"Enter the score: \"))\n",
        "\n",
        "grade = computegrade(score)\n",
        "print(f\"Score: {score}, Grade: {grade}\")"
      ],
      "metadata": {
        "colab": {
          "base_uri": "https://localhost:8080/"
        },
        "id": "y-ngxVpqBN77",
        "outputId": "b21ff6fb-9965-49a4-de65-fa483c135043"
      },
      "execution_count": null,
      "outputs": [
        {
          "output_type": "stream",
          "name": "stdout",
          "text": [
            "Enter the score: 90\n",
            "Score: 90, Grade: 1.5\n"
          ]
        }
      ]
    }
  ]
}
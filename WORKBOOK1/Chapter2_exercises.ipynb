{
  "cells": [
    {
      "cell_type": "code",
      "execution_count": null,
      "metadata": {
        "id": "TjBiBKN9m3K8"
      },
      "outputs": [],
      "source": []
    },
    {
      "cell_type": "markdown",
      "metadata": {
        "id": "DbBmSjCSe3rE"
      },
      "source": [
        "## EXERCISES"
      ]
    },
    {
      "cell_type": "markdown",
      "metadata": {
        "id": "t6-VMjLFe3rE"
      },
      "source": [
        "#### Exercise 1"
      ]
    },
    {
      "cell_type": "code",
      "execution_count": null,
      "metadata": {
        "colab": {
          "base_uri": "https://localhost:8080/"
        },
        "id": "mCgHL_pJe3rE",
        "outputId": "4d59d77d-ac2b-4785-a971-114acb0da74d"
      },
      "outputs": [
        {
          "name": "stdout",
          "output_type": "stream",
          "text": [
            "Enter your name: Kirsten\n",
            "Welcome, Kirsten\n"
          ]
        }
      ],
      "source": [
        "name = input ('Enter your name: ')\n",
        "print('Welcome,', name)\n",
        "\n",
        "\n"
      ]
    },
    {
      "cell_type": "markdown",
      "metadata": {
        "id": "68AfBMuae3rE"
      },
      "source": [
        "#### Exercise 2"
      ]
    },
    {
      "cell_type": "markdown",
      "metadata": {
        "id": "fMgrZqGJe3rE"
      },
      "source": [
        "Write a program to prompt the user for hours and rate per hour to compute gross pay.\n",
        "```\n",
        "Enter Hours: 35\n",
        "Enter Rate: 2.75\n",
        "Pay: 96.25\n",
        "```\n",
        "\n",
        "[PEW] E2.3"
      ]
    },
    {
      "cell_type": "code",
      "execution_count": 1,
      "metadata": {
        "colab": {
          "base_uri": "https://localhost:8080/"
        },
        "id": "UvY9aRoMo7D7",
        "outputId": "038df038-5286-49bd-c0f2-dd3a28eed815"
      },
      "outputs": [],
      "source": [
        "hr = input (\"Enter Hours:\")\n",
        "hrs = int(hr)\n",
        "rate = 2.75\n",
        "Gp = hrs*rate\n",
        "print('Pay:', Gp)"
      ]
    },
    {
      "cell_type": "markdown",
      "metadata": {
        "id": "fN8y-rWVe3rE"
      },
      "source": [
        "#### Exercise 3"
      ]
    },
    {
      "cell_type": "markdown",
      "metadata": {
        "id": "-JvQGG6ye3rE"
      },
      "source": [
        "Assume that we execute the following assignment statements:\n",
        "```python\n",
        "width = 17\n",
        "height = 12.0\n",
        "```\n",
        "For each of the following expressions, write the value of the expression and the type (of the value of the expression).\n",
        "```python\n",
        "width//2\n",
        "width/2.0\n",
        "height/3\n",
        "1 + 2 * 5\n",
        "```\n",
        "\n",
        "[PEW] E2.4"
      ]
    },
    {
      "cell_type": "code",
      "execution_count": null,
      "metadata": {
        "colab": {
          "base_uri": "https://localhost:8080/"
        },
        "id": "K9OtEcQPpdgw",
        "outputId": "2f2b73e8-4d75-473d-f259-f49bf02869fa"
      },
      "outputs": [
        {
          "name": "stdout",
          "output_type": "stream",
          "text": [
            "Width <class 'int'>\n",
            "Height <class 'float'>\n",
            "1 + 2 * 5 <class 'int'>\n"
          ]
        }
      ],
      "source": [
        "w = 17\n",
        "h = 12.0\n",
        "\n",
        "w//2\n",
        "w/2.0\n",
        "h/3\n",
        "1 + 2 * 5\n",
        "\n",
        "print(\"Width\", type (w))\n",
        "print(\"Height\", type (h))\n",
        "print(\"1 + 2 * 5\", type (1+2*5))"
      ]
    },
    {
      "cell_type": "markdown",
      "metadata": {
        "id": "Q5q2HcTve3rE"
      },
      "source": [
        "#### Exercise 4\n",
        "\n",
        "Write a program that uses input to prompt a user for a number and then outputs the square of the number\n",
        "```\n",
        "Enter a number: 3\n",
        "The square of 3 is 9\n",
        "```"
      ]
    },
    {
      "cell_type": "code",
      "execution_count": null,
      "metadata": {
        "colab": {
          "base_uri": "https://localhost:8080/"
        },
        "id": "6jrhcm1bqJ2S",
        "outputId": "003dde08-b309-430f-87bf-c6369b74d7b7"
      },
      "outputs": [
        {
          "name": "stdout",
          "output_type": "stream",
          "text": [
            "Enter a number10\n",
            "The square of 10 is 100\n"
          ]
        }
      ],
      "source": [
        "num = input (\"Enter a number:\")\n",
        "num = int (num)\n",
        "sq = num**2\n",
        "print (\"The square of\", num,\"is\", sq)"
      ]
    },
    {
      "cell_type": "markdown",
      "metadata": {
        "id": "ZYsQb1h-e3rE"
      },
      "source": [
        "## CHALLENGE"
      ]
    },
    {
      "cell_type": "markdown",
      "metadata": {
        "id": "cILbjinke3rE"
      },
      "source": [
        "Write a program which prompts the user for a Celsius temperature, convert the temperature to Fahrenheit, and print out the converted temperature.\n",
        "\n",
        "[PEW] E2.5"
      ]
    },
    {
      "cell_type": "code",
      "execution_count": null,
      "metadata": {
        "colab": {
          "base_uri": "https://localhost:8080/"
        },
        "id": "4XvxTh7XqycY",
        "outputId": "0682fc09-4da6-4b1e-908f-b277c7f61e77"
      },
      "outputs": [
        {
          "name": "stdout",
          "output_type": "stream",
          "text": [
            "Enter Celsius:25\n",
            "The Fahrenheit is 77.0\n"
          ]
        }
      ],
      "source": [
        "celcius = float (input (\"Enter Celsius:\"))\n",
        "fahrenheit = (9/5 * celcius) + 32\n",
        "print(\"The Fahrenheit is\", fahrenheit)"
      ]
    }
  ],
  "metadata": {
    "colab": {
      "provenance": []
    },
    "kernelspec": {
      "display_name": "Python 3",
      "name": "python3"
    },
    "language_info": {
      "codemirror_mode": {
        "name": "ipython",
        "version": 3
      },
      "file_extension": ".py",
      "mimetype": "text/x-python",
      "name": "python",
      "nbconvert_exporter": "python",
      "pygments_lexer": "ipython3",
      "version": "3.8.10"
    }
  },
  "nbformat": 4,
  "nbformat_minor": 0
}

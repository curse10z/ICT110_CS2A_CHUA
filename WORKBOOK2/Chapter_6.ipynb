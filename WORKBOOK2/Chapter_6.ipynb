{
  "nbformat": 4,
  "nbformat_minor": 0,
  "metadata": {
    "colab": {
      "provenance": []
    },
    "kernelspec": {
      "name": "python3",
      "display_name": "Python 3"
    },
    "language_info": {
      "name": "python"
    }
  },
  "cells": [
    {
      "cell_type": "markdown",
      "source": [
        "#Chapter 6"
      ],
      "metadata": {
        "id": "98vohhBa0vDj"
      }
    },
    {
      "cell_type": "markdown",
      "source": [
        "##Exercise 1"
      ],
      "metadata": {
        "id": "FvXqJACY03ht"
      }
    },
    {
      "cell_type": "markdown",
      "source": [
        "Given the code below"
      ],
      "metadata": {
        "id": "rTiH-3G-06z0"
      }
    },
    {
      "cell_type": "code",
      "source": [
        "text = 'Business Analytics'"
      ],
      "metadata": {
        "id": "XykIfOMG09K4"
      },
      "execution_count": null,
      "outputs": []
    },
    {
      "cell_type": "markdown",
      "source": [
        "What will the following expressions produce?"
      ],
      "metadata": {
        "id": "ZUWU3Joc1BkB"
      }
    },
    {
      "cell_type": "code",
      "source": [
        "print (text[4])\n",
        "\n",
        "print (text[2:4])\n",
        "\n",
        "print (text[:4])\n",
        "\n",
        "print (text[4:])\n",
        "\n",
        "print (text[-2])\n",
        "\n",
        "print (text[-4:-2])\n",
        "\n",
        "print (text[-2:])\n",
        "\n",
        "print (text[:-2])"
      ],
      "metadata": {
        "colab": {
          "base_uri": "https://localhost:8080/"
        },
        "id": "SiWkI7EN1EsO",
        "outputId": "70c37612-b95c-4579-db41-9027e0aacd61"
      },
      "execution_count": null,
      "outputs": [
        {
          "output_type": "stream",
          "name": "stdout",
          "text": [
            "n\n",
            "si\n",
            "Busi\n",
            "ness Analytics\n",
            "c\n",
            "ti\n",
            "cs\n",
            "Business Analyti\n"
          ]
        }
      ]
    },
    {
      "cell_type": "markdown",
      "source": [
        "##Exercise 2"
      ],
      "metadata": {
        "id": "Q5DqcTpg1Gl4"
      }
    },
    {
      "cell_type": "markdown",
      "source": [
        "Given the code below:"
      ],
      "metadata": {
        "id": "WrwJany02ESX"
      }
    },
    {
      "cell_type": "code",
      "source": [
        "phrase = 'One Ring to rule them all'"
      ],
      "metadata": {
        "id": "AApshvio2Hd3"
      },
      "execution_count": null,
      "outputs": []
    },
    {
      "cell_type": "markdown",
      "source": [
        "What string slicing expression gives out the following words:"
      ],
      "metadata": {
        "id": "wS_B8AFo2Kz_"
      }
    },
    {
      "cell_type": "code",
      "source": [
        "'One '\n",
        "'Ring'\n",
        "'all'\n",
        "'them'\n",
        "'One Ring to rule them all'"
      ],
      "metadata": {
        "id": "J4GO5e6r2Muv"
      },
      "execution_count": null,
      "outputs": []
    },
    {
      "cell_type": "code",
      "source": [
        "print (phrase[0:4])\n",
        "\n",
        "print (phrase[5:8])\n",
        "\n",
        "print (phrase[-3:])\n",
        "\n",
        "print (phrase [-8:-4])\n",
        "\n",
        "print (phrase[:])"
      ],
      "metadata": {
        "colab": {
          "base_uri": "https://localhost:8080/"
        },
        "id": "LUeQmW_T2OFT",
        "outputId": "e4c81a84-0d4a-485c-cc08-306a0c8bf756"
      },
      "execution_count": null,
      "outputs": [
        {
          "output_type": "stream",
          "name": "stdout",
          "text": [
            "One \n",
            "ing\n",
            "all\n",
            "them\n",
            "One Ring to rule them all\n"
          ]
        }
      ]
    },
    {
      "cell_type": "markdown",
      "source": [
        "##Challenge"
      ],
      "metadata": {
        "id": "FzXo9brr4dAC"
      }
    },
    {
      "cell_type": "markdown",
      "source": [
        "Write a program which repeatedly reads a **full name**, then does the following:\n",
        "- strips the name of any trailing spaces\n",
        "- capitalizes the first letter\n",
        "- puts the rest into smaller letters"
      ],
      "metadata": {
        "id": "WaRRgAQc4i_R"
      }
    },
    {
      "cell_type": "code",
      "source": [
        "def format_name(full_name):\n",
        "    return full_name.strip().capitalize()\n",
        "\n",
        "while True:\n",
        "    full_name = input(\"Enter a full name (or 'quit' to exit): \")\n",
        "    if full_name.lower() == 'quit':\n",
        "        break\n",
        "    formatted = format_name(full_name)\n",
        "    print(\"Formatted name:\", formatted)"
      ],
      "metadata": {
        "colab": {
          "base_uri": "https://localhost:8080/"
        },
        "id": "UhY0lkao4vix",
        "outputId": "e4cb0d55-7644-4a63-db38-8d51ad693c36"
      },
      "execution_count": 1,
      "outputs": [
        {
          "name": "stdout",
          "output_type": "stream",
          "text": [
            "Enter a full name (or 'quit' to exit): JULIEN kIrsteN cHUA\n",
            "Formatted name: Julien kirsten chua\n",
            "Enter a full name (or 'quit' to exit): quit\n"
          ]
        }
      ]
    }
  ]
}
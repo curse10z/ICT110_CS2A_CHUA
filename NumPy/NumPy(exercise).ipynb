{
  "nbformat": 4,
  "nbformat_minor": 0,
  "metadata": {
    "colab": {
      "provenance": []
    },
    "kernelspec": {
      "name": "python3",
      "display_name": "Python 3"
    },
    "language_info": {
      "name": "python"
    }
  },
  "cells": [
    {
      "cell_type": "code",
      "execution_count": null,
      "metadata": {
        "id": "7FZjMy-H8w4v"
      },
      "outputs": [],
      "source": []
    },
    {
      "cell_type": "markdown",
      "metadata": {
        "id": "4b-YS7TeEg_w"
      },
      "source": [
        "### Exercise 1\n",
        "\n",
        "A. Create an ndarry object (A) with any values from 1 to 100 in a nested Python List. You can choose your range from the given values (1-100).\n",
        "\n",
        "* Given that A is an ndarray object, many functionalities in numpy could be accessed by:\n",
        "    + Make sure to explain each line of codes that you have created.\n",
        "\n",
        "1. Using a property of the ndarray object\n",
        "      - e.g. `A.shape`\n",
        "2. Using a method of the ndarray object\n",
        "      - e.g. `A.max()`\n",
        "3. Using a numpy function and passing an ndarray\n",
        "     - e.g. `np.max(A)`\n",
        "\n",
        "B. Create a 5x5 integer-array filled with ones.\n",
        "* Check its shape, size, and number of dimensions. Explain briefly the codes you have created by writing a comment beside the code.\n",
        "\n",
        "C. Create an array of values from -5 to + 5. Multiply each value with 2. Print the resulting array."
      ]
    },
    {
      "cell_type": "code",
      "source": [
        "import numpy as np\n",
        "\n",
        "# A.\n",
        "A = np.array([[i for i in range(1,11)]]) #this code will create an ndarray object(A) to store the values from 89 to 99\n",
        "print(\"Array A:\\n\", A)"
      ],
      "metadata": {
        "colab": {
          "base_uri": "https://localhost:8080/"
        },
        "id": "t2A62I9y96Cj",
        "outputId": "2341d698-0ec6-4d70-e542-0aa52bd126b3"
      },
      "execution_count": 17,
      "outputs": [
        {
          "output_type": "stream",
          "name": "stdout",
          "text": [
            "Array A:\n",
            " [[ 1  2  3  4  5  6  7  8  9 10]]\n"
          ]
        }
      ]
    },
    {
      "cell_type": "code",
      "source": [
        "#1.\n",
        "print(\"Shape:\", A.shape) #This code line gets the size of A using the [variablename].shape function."
      ],
      "metadata": {
        "colab": {
          "base_uri": "https://localhost:8080/"
        },
        "id": "go9307bqAX1r",
        "outputId": "c929735a-71ac-4814-dcae-fda41d6bf373"
      },
      "execution_count": 18,
      "outputs": [
        {
          "output_type": "stream",
          "name": "stdout",
          "text": [
            "Shape: (1, 10)\n"
          ]
        }
      ]
    },
    {
      "cell_type": "code",
      "source": [
        "# 2.\n",
        "print(\"Maximum value\", A.max()) # This code line gets the maximum value in the array A using the [variablename].max() function."
      ],
      "metadata": {
        "colab": {
          "base_uri": "https://localhost:8080/"
        },
        "id": "VRaV_wCRAj6T",
        "outputId": "a61e10c0-4431-4524-ac98-5710e4eff86a"
      },
      "execution_count": 19,
      "outputs": [
        {
          "output_type": "stream",
          "name": "stdout",
          "text": [
            "Maximum value 10\n"
          ]
        }
      ]
    },
    {
      "cell_type": "code",
      "source": [
        "# 3.\n",
        "print(\"Maximum value (using np.max):\", np.max(A)) # this line of code will get the maximum value of the array in A using np.max(variablename) function"
      ],
      "metadata": {
        "colab": {
          "base_uri": "https://localhost:8080/"
        },
        "id": "rJqO0fLoAqhe",
        "outputId": "0efeb756-f0d7-4e91-ebcb-6da3043417e4"
      },
      "execution_count": 20,
      "outputs": [
        {
          "output_type": "stream",
          "name": "stdout",
          "text": [
            "Maximum value (using np.max): 10\n"
          ]
        }
      ]
    },
    {
      "cell_type": "code",
      "source": [
        "# B.\n",
        "ones = np.ones((5, 5), dtype=int) #This code will make a 5x5 Integer-array filled with ones.\n",
        "print(\"Array filled with ones:\\n\", ones)\n",
        "\n",
        "print(\"\\nShape of the array:\", ones.shape) #this code will show the shape of the array using [variablename].shape\n",
        "print(\"Size of the array:\", ones.size) #this code will show the size of the array using [variablename].size\n",
        "print(\"Number of dimensions of the array:\", ones.ndim) #and this one will show the dimensions of the array using [variablename].ndim"
      ],
      "metadata": {
        "colab": {
          "base_uri": "https://localhost:8080/"
        },
        "id": "8ohmdQq8A8JR",
        "outputId": "84d17f7b-d27f-4e67-e5dc-72aefa56c744"
      },
      "execution_count": 23,
      "outputs": [
        {
          "output_type": "stream",
          "name": "stdout",
          "text": [
            "Array filled with ones:\n",
            " [[1 1 1 1 1]\n",
            " [1 1 1 1 1]\n",
            " [1 1 1 1 1]\n",
            " [1 1 1 1 1]\n",
            " [1 1 1 1 1]]\n",
            "\n",
            "Shape of the array: (5, 5)\n",
            "Size of the array: 25\n",
            "Number of dimensions of the array: 2\n"
          ]
        }
      ]
    },
    {
      "cell_type": "code",
      "source": [
        "# C.\n",
        "original_array = np.arange(-5, 6) #1. This code will create an array ranging from -5 to 6\n",
        "\n",
        "result_array = original_array * 2 # The original array will be multiplied by 2\n",
        "\n",
        "print(\"Resulting array:\", result_array) #2. this will print the resulting array"
      ],
      "metadata": {
        "colab": {
          "base_uri": "https://localhost:8080/"
        },
        "id": "NGPsT2MJBU0B",
        "outputId": "08282049-da30-450e-e4a6-8ab4b470913d"
      },
      "execution_count": 24,
      "outputs": [
        {
          "output_type": "stream",
          "name": "stdout",
          "text": [
            "Resulting array: [-10  -8  -6  -4  -2   0   2   4   6   8  10]\n"
          ]
        }
      ]
    },
    {
      "cell_type": "markdown",
      "metadata": {
        "id": "ZZpsNuHYEg_6"
      },
      "source": [
        "### Exercise 2\n",
        "\n",
        "A. Choose the values from the range of numbers 1 to 100.\n",
        "1. Create an array with 30 values within the range of numbers given. You can choose your own start value and stop value. However, the incrementing value will be 2.\n",
        "   * Explain what is the result briefly by writing a comment before the code.\n",
        "2. Multiply the resulting array with 3. Print the result."
      ]
    },
    {
      "cell_type": "code",
      "source": [
        "#1. This code creates an array starting at 1 and ending at 60, with incrementing value of 2, which results to 30 values.\n",
        "w = np.arange(1, 60, 2)\n",
        "w"
      ],
      "metadata": {
        "colab": {
          "base_uri": "https://localhost:8080/"
        },
        "id": "C3x4-TlB7tNJ",
        "outputId": "574da198-8851-4577-e9fa-e41f47e68706"
      },
      "execution_count": null,
      "outputs": [
        {
          "output_type": "execute_result",
          "data": {
            "text/plain": [
              "array([ 1,  3,  5,  7,  9, 11, 13, 15, 17, 19, 21, 23, 25, 27, 29, 31, 33,\n",
              "       35, 37, 39, 41, 43, 45, 47, 49, 51, 53, 55, 57, 59])"
            ]
          },
          "metadata": {},
          "execution_count": 30
        }
      ]
    },
    {
      "cell_type": "code",
      "source": [
        "#2.\n",
        "multip = w*3\n",
        "#3.\n",
        "multip"
      ],
      "metadata": {
        "colab": {
          "base_uri": "https://localhost:8080/"
        },
        "id": "DonacHnQ8YN7",
        "outputId": "62ac65a6-8cd0-455b-870a-7e9c9fb4c493"
      },
      "execution_count": null,
      "outputs": [
        {
          "output_type": "execute_result",
          "data": {
            "text/plain": [
              "array([  3,   9,  15,  21,  27,  33,  39,  45,  51,  57,  63,  69,  75,\n",
              "        81,  87,  93,  99, 105, 111, 117, 123, 129, 135, 141, 147, 153,\n",
              "       159, 165, 171, 177])"
            ]
          },
          "metadata": {},
          "execution_count": 33
        }
      ]
    },
    {
      "cell_type": "markdown",
      "metadata": {
        "id": "a0fwbujzEhAC"
      },
      "source": [
        "### Exercise 3\n",
        "\n",
        "A. Create a four-dimensional array of random integers in the interval [0, 12]. Print the result.\n",
        "1. Get the dimensions, shape, and size.\n",
        "    * Explain what is the result briefly by writing a comment before the code.\n",
        "\n",
        "B. Get the maximum number for each dimensions and display it.\n",
        "   * Explain what is the result briefly by writing a comment before the code.\n",
        "\n",
        "C. Multipy each array with 4. What is its result?\n",
        "    * Write a brief explanation on the multiplication process.\n"
      ]
    },
    {
      "cell_type": "markdown",
      "metadata": {
        "id": "V7gqmjxXEhAC"
      },
      "source": [
        "#### Sample Method Calls:\n",
        "```python\n",
        "    np.random.rand()     #Will return a random number from a uniform distribution\n",
        "    np.random.rand(10)   #Will return 10 random numbers from a uniform distribution\n",
        "    np.random.rand(10,2) #Will return a 10x2 array of random numbers from a uniform distribution\n",
        "```    \n",
        "[あ]"
      ]
    },
    {
      "cell_type": "code",
      "source": [
        "# A. this code generates a random 4-dimensional array of integers, then displays its dimensions, shape, and total size.\n",
        "arr = np.random.randint(0, 13, size=(2, 3, 4, 5))\n",
        "print(\"Random Array:\")\n",
        "print(arr)\n",
        "print(\"\\nDimensions:\", arr.ndim)\n",
        "print(\"Shape:\", arr.shape)\n",
        "print(\"Size:\", arr.size)\n",
        "\n",
        "# B. this code finds the maximum value for each dimension of the array.\n",
        "max_per_dim = arr.max(axis=(0, 1, 2, 3))\n",
        "print(\"\\nMax for each dimension:\", max_per_dim)\n",
        "\n",
        "# C. this code multiplies every element in the array by 4.\n",
        "multiplied_arr = arr * 4\n",
        "print(f\"\\nAfter Multiplying every element by 4: {multiplied_arr}\")"
      ],
      "metadata": {
        "colab": {
          "base_uri": "https://localhost:8080/"
        },
        "id": "YceuQH5Yz00P",
        "outputId": "5e10803a-dc03-44be-eab7-be72c3f6e3b4"
      },
      "execution_count": null,
      "outputs": [
        {
          "output_type": "stream",
          "name": "stdout",
          "text": [
            "Random Array:\n",
            "[[[[ 9  6 11  3  8]\n",
            "   [ 8  0  3  8  1]\n",
            "   [ 8  2  4  2  8]\n",
            "   [11 12  3  4  9]]\n",
            "\n",
            "  [[11  3  2  5  8]\n",
            "   [12  8  2  8 12]\n",
            "   [ 1 11  4  5  9]\n",
            "   [11  9  9 11 10]]\n",
            "\n",
            "  [[ 8 12  0  9 10]\n",
            "   [ 5  5 12  9  0]\n",
            "   [ 7  6 11  6  2]\n",
            "   [ 1  0  1  8  0]]]\n",
            "\n",
            "\n",
            " [[[ 5  7  0  7  0]\n",
            "   [ 3 12  9  6  3]\n",
            "   [ 2  0 10  1  2]\n",
            "   [ 4  1 11  5  7]]\n",
            "\n",
            "  [[ 2  8  6  1  7]\n",
            "   [ 9  8 10  4  6]\n",
            "   [ 1  9  8 10  7]\n",
            "   [ 3  0  2 12  5]]\n",
            "\n",
            "  [[10  0  0  8 11]\n",
            "   [10  9  5  3 12]\n",
            "   [12  8  0  7  9]\n",
            "   [ 1  3  8  7 12]]]]\n",
            "\n",
            "Dimensions: 4\n",
            "Shape: (2, 3, 4, 5)\n",
            "Size: 120\n",
            "\n",
            "Max for each dimension: 12\n",
            "\n",
            "After Multiplying every element by 4: [[[[36 24 44 12 32]\n",
            "   [32  0 12 32  4]\n",
            "   [32  8 16  8 32]\n",
            "   [44 48 12 16 36]]\n",
            "\n",
            "  [[44 12  8 20 32]\n",
            "   [48 32  8 32 48]\n",
            "   [ 4 44 16 20 36]\n",
            "   [44 36 36 44 40]]\n",
            "\n",
            "  [[32 48  0 36 40]\n",
            "   [20 20 48 36  0]\n",
            "   [28 24 44 24  8]\n",
            "   [ 4  0  4 32  0]]]\n",
            "\n",
            "\n",
            " [[[20 28  0 28  0]\n",
            "   [12 48 36 24 12]\n",
            "   [ 8  0 40  4  8]\n",
            "   [16  4 44 20 28]]\n",
            "\n",
            "  [[ 8 32 24  4 28]\n",
            "   [36 32 40 16 24]\n",
            "   [ 4 36 32 40 28]\n",
            "   [12  0  8 48 20]]\n",
            "\n",
            "  [[40  0  0 32 44]\n",
            "   [40 36 20 12 48]\n",
            "   [48 32  0 28 36]\n",
            "   [ 4 12 32 28 48]]]]\n"
          ]
        }
      ]
    }
  ]
}